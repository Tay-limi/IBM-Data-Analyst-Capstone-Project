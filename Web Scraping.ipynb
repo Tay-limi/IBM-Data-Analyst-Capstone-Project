{
 "cells": [
  {
   "cell_type": "markdown",
   "id": "86f78651",
   "metadata": {},
   "source": [
    "# Review of Web Scraping"
   ]
  },
  {
   "cell_type": "markdown",
   "id": "09b436be",
   "metadata": {},
   "source": [
    "# Objectives\n"
   ]
  },
  {
   "cell_type": "markdown",
   "id": "b05913ce",
   "metadata": {},
   "source": [
    "After completing this lab you will be able to:\n",
    "\n",
    "* Download a webpage using requests module\n",
    "* Scrape all links from a web page\n",
    "* Scrape all image urls from a web page\n",
    "* Scrape data from html tables\n"
   ]
  },
  {
   "cell_type": "markdown",
   "id": "b66dfd5e",
   "metadata": {},
   "source": [
    "## Scrape www.ibm.com\n"
   ]
  },
  {
   "cell_type": "code",
   "execution_count": 23,
   "id": "3bbabc08",
   "metadata": {},
   "outputs": [],
   "source": [
    "#import required libraries\n",
    "import requests                  #helps download a web page\n",
    "from bs4 import BeautifulSoup    #helps in web scrapping"
   ]
  },
  {
   "cell_type": "markdown",
   "id": "de97c694",
   "metadata": {},
   "source": [
    "Download the content of the webpage"
   ]
  },
  {
   "cell_type": "code",
   "execution_count": 19,
   "id": "31874ca4",
   "metadata": {},
   "outputs": [],
   "source": [
    "url = \"http://www.ibm.com\""
   ]
  },
  {
   "cell_type": "code",
   "execution_count": 20,
   "id": "ae2ddb63",
   "metadata": {},
   "outputs": [],
   "source": [
    "#get the content of the webpage in text format and store in a varibale called data\n",
    "data = requests.get(url).text"
   ]
  },
  {
   "cell_type": "code",
   "execution_count": 22,
   "id": "1e35459f",
   "metadata": {
    "scrolled": true
   },
   "outputs": [
    {
     "name": "stdout",
     "output_type": "stream",
     "text": [
      "Collecting bs4\n",
      "  Obtaining dependency information for bs4 from https://files.pythonhosted.org/packages/51/bb/bf7aab772a159614954d84aa832c129624ba6c32faa559dfb200a534e50b/bs4-0.0.2-py2.py3-none-any.whl.metadata\n",
      "  Downloading bs4-0.0.2-py2.py3-none-any.whl.metadata (411 bytes)\n",
      "Requirement already satisfied: beautifulsoup4 in c:\\users\\alimi\\anaconda3\\lib\\site-packages (from bs4) (4.12.3)\n",
      "Requirement already satisfied: soupsieve>1.2 in c:\\users\\alimi\\anaconda3\\lib\\site-packages (from beautifulsoup4->bs4) (2.4)\n",
      "Downloading bs4-0.0.2-py2.py3-none-any.whl (1.2 kB)\n",
      "Installing collected packages: bs4\n",
      "Successfully installed bs4-0.0.2\n"
     ]
    }
   ],
   "source": [
    "!pip install bs4\n"
   ]
  },
  {
   "cell_type": "code",
   "execution_count": 25,
   "id": "4738c5e6",
   "metadata": {
    "scrolled": true
   },
   "outputs": [],
   "source": [
    "#create a soup object using the class beautifulsoup\n",
    "soup = BeautifulSoup(data,'html.parser')"
   ]
  },
  {
   "cell_type": "code",
   "execution_count": 26,
   "id": "be66c67b",
   "metadata": {},
   "outputs": [
    {
     "name": "stdout",
     "output_type": "stream",
     "text": [
      "https://www.ibm.com/de-de/cloud?lnk=intro\n"
     ]
    }
   ],
   "source": [
    "#scrape all the links\n",
    "for link in soup.find_all('a'): # in html anchor/link is represented by the tag <a>\n",
    "    print(link.get('href'))"
   ]
  },
  {
   "cell_type": "code",
   "execution_count": 27,
   "id": "892083dd",
   "metadata": {},
   "outputs": [
    {
     "name": "stdout",
     "output_type": "stream",
     "text": [
      "/content/dam/adobe-cms/default-images/home-consultants.component.crop-16by9-xl.ts=1695221931390.jpg/content/adobe-cms/de/de/homepage/_jcr_content/root/table_of_contents/simple_image\n"
     ]
    }
   ],
   "source": [
    "# scrape all images\n",
    "for link in soup.find_all('img'): ## in html image is represented by the tag <img>\n",
    "    print(link.get('src'))"
   ]
  },
  {
   "cell_type": "markdown",
   "id": "09010837",
   "metadata": {},
   "source": [
    "## Scrape data from html tables\n"
   ]
  },
  {
   "cell_type": "markdown",
   "id": "144d41c8",
   "metadata": {},
   "source": [
    "The below url contains a html table with data about colors and color codes."
   ]
  },
  {
   "cell_type": "code",
   "execution_count": 28,
   "id": "22fad0f7",
   "metadata": {},
   "outputs": [],
   "source": [
    "url = \"https://cf-courses-data.s3.us.cloud-object-storage.appdomain.cloud/IBM-DA0321EN-SkillsNetwork/labs/datasets/HTMLColorCodes.html\""
   ]
  },
  {
   "cell_type": "markdown",
   "id": "8f70de09",
   "metadata": {},
   "source": [
    "Before proceeding to scrape a web site, you need to examine the contents, and the way data is organized on the website. Open the above url in your browser and check how many rows and columns are there in the color table.\n"
   ]
  },
  {
   "cell_type": "code",
   "execution_count": 30,
   "id": "38ccee8a",
   "metadata": {},
   "outputs": [],
   "source": [
    "# get the contenrts of the webpage in ext format\n",
    "data = requests.get(url).text"
   ]
  },
  {
   "cell_type": "code",
   "execution_count": 31,
   "id": "8167bd54",
   "metadata": {
    "scrolled": true
   },
   "outputs": [
    {
     "data": {
      "text/plain": [
       "'<html>\\n   <body>\\n      <h1>Partital List  of HTML5 Supported Colors</h1>\\n<table border =\"1\" class=\"main-table\">\\n   <tr>\\n      <td>Number </td>\\n      <td>Color</td>\\n      <td>Color Name</td>\\n      <td>Hex Code<br>#RRGGBB</td>\\n      <td>Decimal Code<br>(R,G,B)</td>\\n   </tr>\\n   <tr>\\n      <td>1</td>\\n      <td style=\"background:lightsalmon;\">&nbsp;</td>\\n      <td>lightsalmon</td>\\n      <td>#FFA07A</td>\\n      <td>rgb(255,160,122)</td>\\n   </tr>\\n   <tr>\\n      <td>2</td>\\n      <td style=\"background:salmon;\">&nbsp;</td>\\n      <td>salmon</td>\\n      <td>#FA8072</td>\\n      <td>rgb(250,128,114)</td>\\n   </tr>\\n   <tr>\\n      <td>3</td>\\n      <td style=\"background:darksalmon;\">&nbsp;</td>\\n      <td>darksalmon</td>\\n      <td>#E9967A</td>\\n      <td>rgb(233,150,122)</td>\\n   </tr>\\n   <tr>\\n      <td>4</td>\\n      <td style=\"background:lightcoral;\">&nbsp;</td>\\n      <td>lightcoral</td>\\n      <td>#F08080</td>\\n      <td>rgb(240,128,128)</td>\\n   </tr>\\n   <tr>\\n      <td>5</td>\\n      <td style=\"background:coral;\">&nbsp;</td>\\n      <td>coral</td>\\n      <td>#FF7F50</td>\\n      <td>rgb(255,127,80)</td>\\n   </tr>\\n   <tr>\\n      <td>6</td>\\n      <td style=\"background:tomato;\">&nbsp;</td>\\n      <td>tomato</td>\\n      <td>#FF6347</td>\\n      <td>rgb(255,99,71)</td>\\n   </tr>\\n   <tr>\\n      <td>7</td>\\n      <td style=\"background:orangered;\">&nbsp;</td>\\n      <td>orangered</td>\\n      <td>#FF4500</td>\\n      <td>rgb(255,69,0)</td>\\n   </tr>\\n   <tr>\\n      <td>8</td>\\n      <td style=\"background:gold;\">&nbsp;</td>\\n      <td>gold</td>\\n      <td>#FFD700</td>\\n      <td>rgb(255,215,0)</td>\\n   </tr>\\n   <tr>\\n      <td>9</td>\\n      <td style=\"background:orange;\">&nbsp;</td>\\n      <td>orange</td>\\n      <td>#FFA500</td>\\n      <td>rgb(255,165,0)</td>\\n   </tr>\\n   <tr>\\n      <td>10</td>\\n      <td style=\"background:darkorange;\">&nbsp;</td>\\n      <td>darkorange</td>\\n      <td>#FF8C00</td>\\n      <td>rgb(255,140,0)</td>\\n   </tr>\\n   <tr>\\n      <td>11</td>\\n      <td style=\"background:lightyellow;\">&nbsp;</td>\\n      <td>lightyellow</td>\\n      <td>#FFFFE0</td>\\n      <td>rgb(255,255,224)</td>\\n   </tr>\\n   <tr>\\n      <td>12</td>\\n      <td style=\"background:lemonchiffon;\">&nbsp;</td>\\n      <td>lemonchiffon</td>\\n      <td>#FFFACD</td>\\n      <td>rgb(255,250,205)</td>\\n   </tr>\\n   <tr>\\n      <td>13</td>\\n      <td style=\"background:papayawhip;\">&nbsp;</td>\\n      <td>papayawhip</td>\\n      <td>#FFEFD5</td>\\n      <td>rgb(255,239,213)</td>\\n   </tr>\\n   <tr>\\n      <td>14</td>\\n      <td style=\"background:moccasin;\">&nbsp;</td>\\n      <td>moccasin</td>\\n      <td>#FFE4B5</td>\\n      <td>rgb(255,228,181)</td>\\n   </tr>\\n   <tr>\\n      <td>15</td>\\n      <td style=\"background:peachpuff;\">&nbsp;</td>\\n      <td>peachpuff</td>\\n      <td>#FFDAB9</td>\\n      <td>rgb(255,218,185)</td>\\n   </tr>\\n   <tr>\\n      <td>16</td>\\n      <td style=\"background:palegoldenrod;\">&nbsp;</td>\\n      <td>palegoldenrod</td>\\n      <td>#EEE8AA</td>\\n      <td>rgb(238,232,170)</td>\\n   </tr>\\n   <tr>\\n      <td>17</td>\\n      <td style=\"background:khaki;\">&nbsp;</td>\\n      <td>khaki</td>\\n      <td>#F0E68C</td>\\n      <td>rgb(240,230,140)</td>\\n   </tr>\\n   <tr>\\n      <td>18</td>\\n      <td style=\"background:darkkhaki;\">&nbsp;</td>\\n      <td>darkkhaki</td>\\n      <td>#BDB76B</td>\\n      <td>rgb(189,183,107)</td>\\n   </tr>\\n   <tr>\\n      <td>19</td>\\n      <td style=\"background:yellow;\">&nbsp;</td>\\n      <td>yellow</td>\\n      <td>#FFFF00</td>\\n      <td>rgb(255,255,0)</td>\\n   </tr>\\n   <tr>\\n      <td>20</td>\\n      <td style=\"background:lawngreen;\">&nbsp;</td>\\n      <td>lawngreen</td>\\n      <td>#7CFC00</td>\\n      <td>rgb(124,252,0)</td>\\n   </tr>\\n   <tr>\\n      <td>21</td>\\n      <td style=\"background:chartreuse;\">&nbsp;</td>\\n      <td>chartreuse</td>\\n      <td>#7FFF00</td>\\n      <td>rgb(127,255,0)</td>\\n   </tr>\\n   <tr>\\n      <td>22</td>\\n      <td style=\"background:limegreen;\">&nbsp;</td>\\n      <td>limegreen</td>\\n      <td>#32CD32</td>\\n      <td>rgb(50,205,50)</td>\\n   </tr>\\n   <tr>\\n      <td>23</td>\\n      <td style=\"background:lime;\">&nbsp;</td>\\n      <td>lime</td>\\n      <td>#00FF00</td>\\n      <td>rgb(0.255.0)</td>\\n   </tr>\\n   <tr>\\n      <td>24</td>\\n      <td style=\"background:forestgreen;\">&nbsp;</td>\\n      <td>forestgreen</td>\\n      <td>#228B22</td>\\n      <td>rgb(34,139,34)</td>\\n   </tr>\\n   <tr>\\n      <td>25</td>\\n      <td style=\"background:green;\">&nbsp;</td>\\n      <td>green</td>\\n      <td>#008000</td>\\n      <td>rgb(0,128,0)</td>\\n   </tr>\\n   <tr>\\n      <td>26</td>\\n      <td style=\"background:powderblue;\">&nbsp;</td>\\n      <td>powderblue</td>\\n      <td>#B0E0E6</td>\\n      <td>rgb(176,224,230)</td>\\n   </tr>\\n   <tr>\\n      <td>27</td>\\n      <td style=\"background:lightblue;\">&nbsp;</td>\\n      <td>lightblue</td>\\n      <td>#ADD8E6</td>\\n      <td>rgb(173,216,230)</td>\\n   </tr>\\n   <tr>\\n      <td>28</td>\\n      <td style=\"background:lightskyblue;\">&nbsp;</td>\\n      <td>lightskyblue</td>\\n      <td>#87CEFA</td>\\n      <td>rgb(135,206,250)</td>\\n   </tr>\\n   <tr>\\n      <td>29</td>\\n      <td style=\"background:skyblue;\">&nbsp;</td>\\n      <td>skyblue</td>\\n      <td>#87CEEB</td>\\n      <td>rgb(135,206,235)</td>\\n   </tr>\\n   <tr>\\n      <td>30</td>\\n      <td style=\"background:deepskyblue;\">&nbsp;</td>\\n      <td>deepskyblue</td>\\n      <td>#00BFFF</td>\\n      <td>rgb(0,191,255)</td>\\n   </tr>\\n   <tr>\\n      <td>31</td>\\n      <td style=\"background:lightsteelblue;\">&nbsp;</td>\\n      <td>lightsteelblue</td>\\n      <td>#B0C4DE</td>\\n      <td>rgb(176,196,222)</td>\\n   </tr>\\n   <tr>\\n      <td>32</td>\\n      <td style=\"background:dodgerblue;\">&nbsp;</td>\\n      <td>dodgerblue</td>\\n      <td>#1E90FF</td>\\n      <td>rgb(30,144,255)</td>\\n   </tr>\\n</table>\\n   </body>\\n</html>'"
      ]
     },
     "execution_count": 31,
     "metadata": {},
     "output_type": "execute_result"
    }
   ],
   "source": [
    "data"
   ]
  },
  {
   "cell_type": "code",
   "execution_count": 32,
   "id": "650fdbb4",
   "metadata": {},
   "outputs": [],
   "source": [
    "soup = BeautifulSoup(data, 'html.parser')"
   ]
  },
  {
   "cell_type": "code",
   "execution_count": 33,
   "id": "0bc2aca4",
   "metadata": {},
   "outputs": [],
   "source": [
    "# find a table in the web page\n",
    "table = soup.find('table') ## in html table is represented by the tag <table>"
   ]
  },
  {
   "cell_type": "code",
   "execution_count": 36,
   "id": "76c59e08",
   "metadata": {},
   "outputs": [
    {
     "name": "stdout",
     "output_type": "stream",
     "text": [
      "Color Name---->Hex Code#RRGGBB\n",
      "lightsalmon---->#FFA07A\n",
      "salmon---->#FA8072\n",
      "darksalmon---->#E9967A\n",
      "lightcoral---->#F08080\n",
      "coral---->#FF7F50\n",
      "tomato---->#FF6347\n",
      "orangered---->#FF4500\n",
      "gold---->#FFD700\n",
      "orange---->#FFA500\n",
      "darkorange---->#FF8C00\n",
      "lightyellow---->#FFFFE0\n",
      "lemonchiffon---->#FFFACD\n",
      "papayawhip---->#FFEFD5\n",
      "moccasin---->#FFE4B5\n",
      "peachpuff---->#FFDAB9\n",
      "palegoldenrod---->#EEE8AA\n",
      "khaki---->#F0E68C\n",
      "darkkhaki---->#BDB76B\n",
      "yellow---->#FFFF00\n",
      "lawngreen---->#7CFC00\n",
      "chartreuse---->#7FFF00\n",
      "limegreen---->#32CD32\n",
      "lime---->#00FF00\n",
      "forestgreen---->#228B22\n",
      "green---->#008000\n",
      "powderblue---->#B0E0E6\n",
      "lightblue---->#ADD8E6\n",
      "lightskyblue---->#87CEFA\n",
      "skyblue---->#87CEEB\n",
      "deepskyblue---->#00BFFF\n",
      "lightsteelblue---->#B0C4DE\n",
      "dodgerblue---->#1E90FF\n"
     ]
    }
   ],
   "source": [
    "#get all the rows from the table\n",
    "for row in table.find_all('tr'): #in html table row is represented by the tag <tr>\n",
    "    #get all the columns in each row\n",
    "    cols = row.find_all('td') #in html table column is represented by the tag <td>\n",
    "    color_name = cols[2].getText() #store the value in column 3 as color_name\n",
    "    color_code = cols[3].getText() #store the value in column 4 as color_code\n",
    "    print(f\"{color_name}---->{color_code}\")"
   ]
  },
  {
   "cell_type": "markdown",
   "id": "2d33b8a1",
   "metadata": {},
   "source": [
    "# Collecting Data Using Web Scraping"
   ]
  },
  {
   "cell_type": "markdown",
   "id": "29f86478",
   "metadata": {},
   "source": [
    "## Objectives\n"
   ]
  },
  {
   "cell_type": "markdown",
   "id": "e32b58b5",
   "metadata": {},
   "source": [
    "* Extract information from a given web site \n",
    "* Write the scraped data into a csv file.\n"
   ]
  },
  {
   "cell_type": "markdown",
   "id": "6a83feff",
   "metadata": {},
   "source": [
    "## Extract information from the given web site\n",
    "You will extract the data from the below web site: <br> \n"
   ]
  },
  {
   "cell_type": "code",
   "execution_count": 42,
   "id": "fa4d6b03",
   "metadata": {},
   "outputs": [],
   "source": [
    "# data\n",
    "url = \"https://cf-courses-data.s3.us.cloud-object-storage.appdomain.cloud/IBM-DA0321EN-SkillsNetwork/labs/datasets/Programming_Languages.html\""
   ]
  },
  {
   "cell_type": "markdown",
   "id": "5a25d92e",
   "metadata": {},
   "source": [
    "The data you need to scrape is the **name of the programming language** and **average annual salary**.<br> It is a good idea to open the url in your web broswer and study the contents of the web page before you start to scrape"
   ]
  },
  {
   "cell_type": "code",
   "execution_count": 41,
   "id": "cc49f9d7",
   "metadata": {},
   "outputs": [],
   "source": [
    "import requests\n",
    "from bs4 import BeautifulSoup"
   ]
  },
  {
   "cell_type": "code",
   "execution_count": 43,
   "id": "67259156",
   "metadata": {},
   "outputs": [],
   "source": [
    "#download the webpage at the url\n",
    "data = requests.get(url).text"
   ]
  },
  {
   "cell_type": "code",
   "execution_count": 44,
   "id": "f030dc4d",
   "metadata": {},
   "outputs": [],
   "source": [
    "#create a beautifulsoup object\n",
    "soup = BeautifulSoup(data, 'html.parser')"
   ]
  },
  {
   "cell_type": "code",
   "execution_count": 46,
   "id": "f6a3db7f",
   "metadata": {},
   "outputs": [
    {
     "name": "stdout",
     "output_type": "stream",
     "text": [
      "The Programming Language Language commands an     annual salary of:Average Annual Salary\n",
      "The Programming Language Python commands an     annual salary of:$114,383\n",
      "The Programming Language Java commands an     annual salary of:$101,013\n",
      "The Programming Language R commands an     annual salary of:$92,037\n",
      "The Programming Language Javascript commands an     annual salary of:$110,981\n",
      "The Programming Language Swift commands an     annual salary of:$130,801\n",
      "The Programming Language C++ commands an     annual salary of:$113,865\n",
      "The Programming Language C# commands an     annual salary of:$88,726\n",
      "The Programming Language PHP commands an     annual salary of:$84,727\n",
      "The Programming Language SQL commands an     annual salary of:$84,793\n",
      "The Programming Language Go commands an     annual salary of:$94,082\n"
     ]
    }
   ],
   "source": [
    "#scrape the Language name and annual average Salary\n",
    "table = soup.find('table')\n",
    "for row in table.find_all('tr'):\n",
    "    cols = row.find_all('td')\n",
    "    language_name = cols[1].getText()\n",
    "    annual_average_salary = cols[3].getText()\n",
    "    print(f\"The Programming Language {language_name} commands an \\\n",
    "    annual salary of:{annual_average_salary}\")"
   ]
  },
  {
   "cell_type": "code",
   "execution_count": 53,
   "id": "1734fdb3",
   "metadata": {},
   "outputs": [
    {
     "name": "stdout",
     "output_type": "stream",
     "text": [
      "The Programming Language Python commands an annual salary of:$114,383\n",
      "The Programming Language Java commands an annual salary of:$101,013\n",
      "The Programming Language R commands an annual salary of:$92,037\n",
      "The Programming Language Javascript commands an annual salary of:$110,981\n",
      "The Programming Language Swift commands an annual salary of:$130,801\n",
      "The Programming Language C++ commands an annual salary of:$113,865\n",
      "The Programming Language C# commands an annual salary of:$88,726\n",
      "The Programming Language PHP commands an annual salary of:$84,727\n",
      "The Programming Language SQL commands an annual salary of:$84,793\n",
      "The Programming Language Go commands an annual salary of:$94,082\n"
     ]
    }
   ],
   "source": [
    "#without the header\n",
    "skip_first_row = True\n",
    "\n",
    "for row in table.find_all('tr'):\n",
    "    if skip_first_row == True:\n",
    "        skip_first_row = False\n",
    "        continue #skip the first row\n",
    "        \n",
    "    cols = row.find_all('td')\n",
    "    language_name = cols[1].getText()\n",
    "    annual_average_salary = cols[3].getText()\n",
    "    print(f\"The Programming Language {language_name} commands an annual salary of:{annual_average_salary}\")"
   ]
  },
  {
   "cell_type": "markdown",
   "id": "2f08e1e1",
   "metadata": {},
   "source": [
    "## save the scrapped data into a file named popular-languages.csv"
   ]
  },
  {
   "cell_type": "markdown",
   "id": "91b2d282",
   "metadata": {},
   "source": [
    "Using Pandas"
   ]
  },
  {
   "cell_type": "code",
   "execution_count": 56,
   "id": "7fa127a5",
   "metadata": {},
   "outputs": [
    {
     "name": "stdout",
     "output_type": "stream",
     "text": [
      "Data has been saved to 'popular-languages.csv'.\n"
     ]
    }
   ],
   "source": [
    "import pandas as pd\n",
    "content = []\n",
    "for row in table.find_all('tr'):\n",
    "    cols = row.find_all('td')\n",
    "    language_name = cols[1].getText()\n",
    "    annual_average_salary = cols[3].getText()\n",
    "    content.append([language_name, annual_average_salary])\n",
    "\n",
    "df = pd.DataFrame(content) #if there are no columns, pass columns=['Language Name', 'Annual Average Salary'] as a parameter\n",
    "df.to_csv('popular-languages.csv', index = False)\n",
    "\n",
    "print(\"Data has been saved to 'popular-languages.csv'.\")"
   ]
  },
  {
   "cell_type": "markdown",
   "id": "c4e2ada1",
   "metadata": {},
   "source": [
    "ALternatively"
   ]
  },
  {
   "cell_type": "code",
   "execution_count": 59,
   "id": "4fc95ebd",
   "metadata": {},
   "outputs": [
    {
     "name": "stdout",
     "output_type": "stream",
     "text": [
      "Data has been saved to 'popular-languages1.csv'.\n"
     ]
    }
   ],
   "source": [
    "import csv\n",
    "\n",
    "with open('popular-language1.csv', 'w', newline='') as csvfile:\n",
    "    #create a csv write object\n",
    "    csv_writer = csv.writer(csvfile)\n",
    "    \n",
    "    #write the header row\n",
    "    csv_writer.writerow(['Language Name', 'Annual Average Salary'])\n",
    "    \n",
    "    #Find the table in the HTML\n",
    "    table = soup.find('table')\n",
    "    \n",
    "    for row in table.find_all('tr'):\n",
    "        cols = row.find_all('td')\n",
    "        language_name = cols[1].getText()\n",
    "        annual_average_salary = cols[3].getText()\n",
    "    \n",
    "        csv_writer.writerow([language_name, annual_average_salary])\n",
    "        \n",
    "print(\"Data has been saved to 'popular-languages1.csv'.\")"
   ]
  },
  {
   "cell_type": "code",
   "execution_count": null,
   "id": "a9eacbd3",
   "metadata": {},
   "outputs": [],
   "source": []
  }
 ],
 "metadata": {
  "kernelspec": {
   "display_name": "Python 3 (ipykernel)",
   "language": "python",
   "name": "python3"
  },
  "language_info": {
   "codemirror_mode": {
    "name": "ipython",
    "version": 3
   },
   "file_extension": ".py",
   "mimetype": "text/x-python",
   "name": "python",
   "nbconvert_exporter": "python",
   "pygments_lexer": "ipython3",
   "version": "3.11.5"
  }
 },
 "nbformat": 4,
 "nbformat_minor": 5
}
